{
 "cells": [
  {
   "cell_type": "markdown",
   "metadata": {},
   "source": [
    "# Capstone Project - The Battle of the Neighborhoods (Week 1)\n",
    "### Applied Data Science Capstone by IBM/Coursera"
   ]
  },
  {
   "cell_type": "markdown",
   "metadata": {},
   "source": [
    "## Table of contents\n",
    "* [Introduction: Business Problem](#introduction)\n",
    "* [Data](#data)\n",
    "* [Methodology](#methodology)\n",
    "* [Analysis](#analysis)\n",
    "* [Results and Discussion](#results)\n",
    "* [Conclusion](#conclusion)"
   ]
  },
  {
   "cell_type": "markdown",
   "metadata": {},
   "source": [
    "## Introduction: Business Problem <a name=\"introduction\"></a>"
   ]
  },
  {
   "cell_type": "markdown",
   "metadata": {},
   "source": [
    "As a major American city, **Boston** is home to a wide variety of business establishments. \n",
    "\n",
    "From Central Boston’s financial hub to the large hospitals of the Longwood Medical Area to the major research universities in Fenway, **Boston’s unique neighborhoods** help the city as a whole serve a global market. Each of Boston’s neighborhoods has something unique to offer businesses, and this factors into where industries choose to settle. \n",
    "\n",
    "In this report, We will try to find an optimal location for a **Korean Restaurant** in Boston. \n",
    "\n",
    "Since there are lots of Korean restaurants in Boston we will try to find **the neighborhood that are not already crowded with restaurants and with no top Korean restaurants in vicinity**. \n",
    "\n",
    "In this report, we will show to the skateholders about a few most promissing neighborhoods based on this criteria for them to make a final decision. "
   ]
  },
  {
   "cell_type": "markdown",
   "metadata": {},
   "source": [
    "## Data <a name=\"data\"></a>"
   ]
  },
  {
   "cell_type": "markdown",
   "metadata": {},
   "source": [
    "Based on definition of our problem, factors that will influence our decission are:\n",
    "* neighborhoods 's information,such as **zip code**, **cooridinates** in Boston area\n",
    "* **number of restaurants** in the neighborhoods\n",
    "* **number of korean restaurants** in the neighborhoods, if any\n",
    "\n",
    "Following data sources will be needed to extract/generate the required information:\n",
    "* number of restaurants and their type and location in every neighborhood will be obtained using **Foursquare API**\n",
    "* coordinate of Berlin center will be obtained using *US Zip Code Latitude and Longitude* from the website: [https://public.opendatasoft.com/explore/dataset/us-zip-code-latitude-and-longitude/table/]"
   ]
  },
  {
   "cell_type": "code",
   "execution_count": 20,
   "metadata": {},
   "outputs": [
    {
     "data": {
      "text/html": [
       "<div>\n",
       "<style scoped>\n",
       "    .dataframe tbody tr th:only-of-type {\n",
       "        vertical-align: middle;\n",
       "    }\n",
       "\n",
       "    .dataframe tbody tr th {\n",
       "        vertical-align: top;\n",
       "    }\n",
       "\n",
       "    .dataframe thead th {\n",
       "        text-align: right;\n",
       "    }\n",
       "</style>\n",
       "<table border=\"1\" class=\"dataframe\">\n",
       "  <thead>\n",
       "    <tr style=\"text-align: right;\">\n",
       "      <th></th>\n",
       "      <th>Zip</th>\n",
       "      <th>City</th>\n",
       "      <th>State</th>\n",
       "      <th>Latitude</th>\n",
       "      <th>Longitude</th>\n",
       "      <th>Timezone</th>\n",
       "      <th>Daylight savings time flag</th>\n",
       "      <th>Neiborhoods</th>\n",
       "    </tr>\n",
       "  </thead>\n",
       "  <tbody>\n",
       "    <tr>\n",
       "      <th>0</th>\n",
       "      <td>02101</td>\n",
       "      <td>Boston</td>\n",
       "      <td>MA</td>\n",
       "      <td>42.370567</td>\n",
       "      <td>-71.026964</td>\n",
       "      <td>-5</td>\n",
       "      <td>1</td>\n",
       "      <td>Central Boston</td>\n",
       "    </tr>\n",
       "    <tr>\n",
       "      <th>1</th>\n",
       "      <td>02102</td>\n",
       "      <td>Boston</td>\n",
       "      <td>MA</td>\n",
       "      <td>42.338947</td>\n",
       "      <td>-70.919635</td>\n",
       "      <td>-5</td>\n",
       "      <td>1</td>\n",
       "      <td>NaN</td>\n",
       "    </tr>\n",
       "    <tr>\n",
       "      <th>2</th>\n",
       "      <td>02103</td>\n",
       "      <td>Boston</td>\n",
       "      <td>MA</td>\n",
       "      <td>42.338947</td>\n",
       "      <td>-70.919635</td>\n",
       "      <td>-5</td>\n",
       "      <td>1</td>\n",
       "      <td>NaN</td>\n",
       "    </tr>\n",
       "    <tr>\n",
       "      <th>3</th>\n",
       "      <td>02104</td>\n",
       "      <td>Boston</td>\n",
       "      <td>MA</td>\n",
       "      <td>42.338947</td>\n",
       "      <td>-70.919635</td>\n",
       "      <td>-5</td>\n",
       "      <td>1</td>\n",
       "      <td>NaN</td>\n",
       "    </tr>\n",
       "    <tr>\n",
       "      <th>4</th>\n",
       "      <td>02105</td>\n",
       "      <td>Boston</td>\n",
       "      <td>MA</td>\n",
       "      <td>42.338947</td>\n",
       "      <td>-70.919635</td>\n",
       "      <td>-5</td>\n",
       "      <td>1</td>\n",
       "      <td>NaN</td>\n",
       "    </tr>\n",
       "  </tbody>\n",
       "</table>\n",
       "</div>"
      ],
      "text/plain": [
       "     Zip    City State   Latitude   Longitude Timezone  \\\n",
       "0  02101  Boston    MA  42.370567  -71.026964       -5   \n",
       "1  02102  Boston    MA  42.338947  -70.919635       -5   \n",
       "2  02103  Boston    MA  42.338947  -70.919635       -5   \n",
       "3  02104  Boston    MA  42.338947  -70.919635       -5   \n",
       "4  02105  Boston    MA  42.338947  -70.919635       -5   \n",
       "\n",
       "  Daylight savings time flag     Neiborhoods  \n",
       "0                          1  Central Boston  \n",
       "1                          1             NaN  \n",
       "2                          1             NaN  \n",
       "3                          1             NaN  \n",
       "4                          1             NaN  "
      ]
     },
     "execution_count": 20,
     "metadata": {},
     "output_type": "execute_result"
    }
   ],
   "source": [
    "import pandas as pd\n",
    "Boston = pd.read_csv(\"Boston.csv\",dtype=str)\n",
    "Boston['Zip'] = Boston['Zip'].str.zfill(5)\n",
    "Boston.head()"
   ]
  },
  {
   "cell_type": "code",
   "execution_count": null,
   "metadata": {},
   "outputs": [],
   "source": []
  },
  {
   "cell_type": "code",
   "execution_count": null,
   "metadata": {},
   "outputs": [],
   "source": []
  }
 ],
 "metadata": {
  "kernelspec": {
   "display_name": "Python 3",
   "language": "python",
   "name": "python3"
  },
  "language_info": {
   "codemirror_mode": {
    "name": "ipython",
    "version": 3
   },
   "file_extension": ".py",
   "mimetype": "text/x-python",
   "name": "python",
   "nbconvert_exporter": "python",
   "pygments_lexer": "ipython3",
   "version": "3.7.6"
  }
 },
 "nbformat": 4,
 "nbformat_minor": 4
}
